{
 "cells": [
  {
   "cell_type": "code",
   "execution_count": 2,
   "metadata": {},
   "outputs": [
    {
     "name": "stdout",
     "output_type": "stream",
     "text": [
      "ImageWidth: 4080\n",
      "ImageLength: 2296\n",
      "ResolutionUnit: 2\n",
      "ExifOffset: 228\n",
      "Make: samsung\n",
      "Model: Galaxy A14\n",
      "Software: A145FXXU3AWG5\n",
      "Orientation: 6\n",
      "DateTime: 2024:07:10 21:37:08\n",
      "YCbCrPositioning: 1\n",
      "XResolution: 72.0\n",
      "YResolution: 72.0\n",
      "ExifVersion: b'0220'\n",
      "ShutterSpeedValue: 0.1\n",
      "ApertureValue: 1.69\n",
      "DateTimeOriginal: 2024:07:10 21:37:08\n",
      "DateTimeDigitized: 2024:07:10 21:37:08\n",
      "ExposureBiasValue: 0.0\n",
      "MaxApertureValue: 1.69\n",
      "MeteringMode: 2\n",
      "ColorSpace: 1\n",
      "Flash: 0\n",
      "FocalLength: 3.98\n",
      "ExifImageWidth: 4080\n",
      "ExifImageHeight: 2296\n",
      "DigitalZoomRatio: 1.0\n",
      "FocalLengthIn35mmFilm: 26\n",
      "SceneCaptureType: 0\n",
      "OffsetTime: +07:00\n",
      "OffsetTimeOriginal: +07:00\n",
      "SubsecTime: 538\n",
      "SubsecTimeOriginal: 538\n",
      "SubsecTimeDigitized: 538\n",
      "ExposureTime: 0.1\n",
      "FNumber: 1.8\n",
      "ImageUniqueID: D50ELPCR0YM\n",
      "ExposureProgram: 2\n",
      "ISOSpeedRatings: 2000\n",
      "ExposureMode: 0\n",
      "WhiteBalance: 0\n"
     ]
    }
   ],
   "source": [
    "from PIL import Image\n",
    "from PIL.ExifTags import TAGS\n",
    "\n",
    "# Membaca gambar\n",
    "image_path = 'img/1.jpg'\n",
    "image = Image.open(image_path)\n",
    "\n",
    "# Mendapatkan metadata\n",
    "exif_data = image._getexif()\n",
    "\n",
    "# Menampilkan metadata\n",
    "if exif_data:\n",
    "    for tag, value in exif_data.items():\n",
    "        tag_name = TAGS.get(tag, tag)\n",
    "        print(f\"{tag_name}: {value}\")\n",
    "else:\n",
    "    print(\"Tidak ada metadata yang ditemukan\")"
   ]
  }
 ],
 "metadata": {
  "kernelspec": {
   "display_name": "Python 3",
   "language": "python",
   "name": "python3"
  },
  "language_info": {
   "codemirror_mode": {
    "name": "ipython",
    "version": 3
   },
   "file_extension": ".py",
   "mimetype": "text/x-python",
   "name": "python",
   "nbconvert_exporter": "python",
   "pygments_lexer": "ipython3",
   "version": "3.12.1"
  }
 },
 "nbformat": 4,
 "nbformat_minor": 2
}
